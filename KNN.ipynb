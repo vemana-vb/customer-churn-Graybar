{
 "cells": [
  {
   "cell_type": "code",
   "execution_count": 25,
   "id": "c1c47db2",
   "metadata": {},
   "outputs": [],
   "source": [
    "import pandas as pd\n",
    "from sklearn.model_selection import train_test_split\n",
    "from sklearn.preprocessing import StandardScaler, LabelEncoder\n",
    "from sklearn.neighbors import KNeighborsClassifier\n",
    "from sklearn.metrics import accuracy_score\n"
   ]
  },
  {
   "cell_type": "code",
   "execution_count": 26,
   "id": "d0633ef9",
   "metadata": {},
   "outputs": [],
   "source": [
    "# Load the data\n",
    "file_path = 'Final_data.csv'  # Replace with your file path\n",
    "data = pd.read_csv(file_path)"
   ]
  },
  {
   "cell_type": "code",
   "execution_count": 27,
   "id": "7aa9f0af",
   "metadata": {},
   "outputs": [],
   "source": [
    "# Feature selection: choose relevant features or perform feature engineering\n",
    "selected_features = ['Monthly SKUs Purchased', 'Monthly Vendors Purchased', 'Monthly Number of Sales', 'Monthly Sum Sales ($)', 'Monthly Gross Margin ($)']  # Replace with your chosen features\n",
    "data = data[selected_features + ['Churned']]"
   ]
  },
  {
   "cell_type": "code",
   "execution_count": 28,
   "id": "c7ab32d5",
   "metadata": {},
   "outputs": [],
   "source": [
    "# Handling categorical data\n",
    "label_encoders = {}\n",
    "categorical_columns = data.select_dtypes(include=['object']).columns\n",
    "for col in categorical_columns:\n",
    "    le = LabelEncoder()\n",
    "    data[col] = le.fit_transform(data[col])\n",
    "    label_encoders[col] = le"
   ]
  },
  {
   "cell_type": "code",
   "execution_count": 29,
   "id": "db98ad9a",
   "metadata": {},
   "outputs": [],
   "source": [
    "# Splitting the dataset into the training set and test set\n",
    "X = data.drop('Churned', axis=1)\n",
    "y = data['Churned']\n",
    "X_train, X_test, y_train, y_test = train_test_split(X, y, test_size=0.3, random_state=42)\n"
   ]
  },
  {
   "cell_type": "code",
   "execution_count": 30,
   "id": "eea8d19b",
   "metadata": {},
   "outputs": [],
   "source": [
    "# Feature scaling\n",
    "sc = StandardScaler()\n",
    "X_train = sc.fit_transform(X_train)\n",
    "X_test = sc.transform(X_test)"
   ]
  },
  {
   "cell_type": "code",
   "execution_count": 41,
   "id": "bc89fdf5",
   "metadata": {
    "scrolled": true
   },
   "outputs": [
    {
     "name": "stdout",
     "output_type": "stream",
     "text": [
      "At k value 1, the accuracy calculated is 0.9752615465217178\n",
      "At k value 2, the accuracy calculated is 0.9862309468065947\n",
      "At k value 3, the accuracy calculated is 0.9855269405196548\n",
      "At k value 4, the accuracy calculated is 0.9863946691989063\n",
      "At k value 5, the accuracy calculated is 0.9863782969596752\n",
      "At k value 6, the accuracy calculated is 0.9864437859165998\n",
      "At k value 7, the accuracy calculated is 0.9864437859165998\n",
      "At k value 8, the accuracy calculated is 0.9864437859165998\n",
      "At k value 9, the accuracy calculated is 0.9864274136773686\n",
      "At k value 10, the accuracy calculated is 0.9864437859165998\n",
      "At k value 11, the accuracy calculated is 0.9864437859165998\n",
      "At k value 12, the accuracy calculated is 0.9864437859165998\n",
      "At k value 13, the accuracy calculated is 0.9864437859165998\n",
      "At k value 14, the accuracy calculated is 0.9864437859165998\n",
      "At k value 15, the accuracy calculated is 0.9864437859165998\n",
      "At k value 16, the accuracy calculated is 0.9864437859165998\n",
      "At k value 17, the accuracy calculated is 0.9864437859165998\n",
      "At k value 18, the accuracy calculated is 0.9864437859165998\n",
      "At k value 19, the accuracy calculated is 0.9864437859165998\n",
      "At k value 20, the accuracy calculated is 0.9864437859165998\n",
      "At k value 21, the accuracy calculated is 0.9864437859165998\n",
      "At k value 22, the accuracy calculated is 0.9864437859165998\n",
      "At k value 23, the accuracy calculated is 0.9864437859165998\n",
      "At k value 24, the accuracy calculated is 0.9864437859165998\n",
      "At k value 25, the accuracy calculated is 0.9864437859165998\n",
      "At k value 26, the accuracy calculated is 0.9864437859165998\n",
      "At k value 27, the accuracy calculated is 0.9864437859165998\n",
      "At k value 28, the accuracy calculated is 0.9864437859165998\n",
      "At k value 29, the accuracy calculated is 0.9864437859165998\n",
      "At k value 30, the accuracy calculated is 0.9864437859165998\n",
      "At k value 31, the accuracy calculated is 0.9864437859165998\n",
      "At k value 32, the accuracy calculated is 0.9864437859165998\n",
      "At k value 33, the accuracy calculated is 0.9864437859165998\n",
      "At k value 34, the accuracy calculated is 0.9864437859165998\n",
      "At k value 35, the accuracy calculated is 0.9864437859165998\n",
      "At k value 36, the accuracy calculated is 0.9864437859165998\n",
      "At k value 37, the accuracy calculated is 0.9864437859165998\n",
      "At k value 38, the accuracy calculated is 0.9864437859165998\n",
      "At k value 39, the accuracy calculated is 0.9864437859165998\n",
      "At k value 40, the accuracy calculated is 0.9864437859165998\n",
      "At k value 41, the accuracy calculated is 0.9864437859165998\n",
      "At k value 42, the accuracy calculated is 0.9864437859165998\n",
      "At k value 43, the accuracy calculated is 0.9864437859165998\n",
      "At k value 44, the accuracy calculated is 0.9864437859165998\n",
      "At k value 45, the accuracy calculated is 0.9864437859165998\n",
      "At k value 46, the accuracy calculated is 0.9864437859165998\n",
      "At k value 47, the accuracy calculated is 0.9864437859165998\n",
      "At k value 48, the accuracy calculated is 0.9864437859165998\n",
      "At k value 49, the accuracy calculated is 0.9864437859165998\n",
      "At k value 50, the accuracy calculated is 0.9864437859165998\n",
      "At k value 51, the accuracy calculated is 0.9864437859165998\n",
      "At k value 52, the accuracy calculated is 0.9864437859165998\n",
      "At k value 53, the accuracy calculated is 0.9864437859165998\n",
      "At k value 54, the accuracy calculated is 0.9864437859165998\n",
      "At k value 55, the accuracy calculated is 0.9864437859165998\n",
      "At k value 56, the accuracy calculated is 0.9864437859165998\n",
      "At k value 57, the accuracy calculated is 0.9864437859165998\n",
      "At k value 58, the accuracy calculated is 0.9864437859165998\n",
      "At k value 59, the accuracy calculated is 0.9864437859165998\n",
      "At k value 60, the accuracy calculated is 0.9864437859165998\n",
      "At k value 61, the accuracy calculated is 0.9864437859165998\n",
      "At k value 62, the accuracy calculated is 0.9864437859165998\n",
      "At k value 63, the accuracy calculated is 0.9864437859165998\n",
      "At k value 64, the accuracy calculated is 0.9864437859165998\n",
      "At k value 65, the accuracy calculated is 0.9864437859165998\n",
      "At k value 66, the accuracy calculated is 0.9864437859165998\n",
      "At k value 67, the accuracy calculated is 0.9864437859165998\n",
      "At k value 68, the accuracy calculated is 0.9864437859165998\n",
      "At k value 69, the accuracy calculated is 0.9864437859165998\n",
      "At k value 70, the accuracy calculated is 0.9864437859165998\n",
      "At k value 71, the accuracy calculated is 0.9864437859165998\n",
      "At k value 72, the accuracy calculated is 0.9864437859165998\n",
      "At k value 73, the accuracy calculated is 0.9864437859165998\n",
      "At k value 74, the accuracy calculated is 0.9864437859165998\n",
      "At k value 75, the accuracy calculated is 0.9864437859165998\n",
      "At k value 76, the accuracy calculated is 0.9864437859165998\n",
      "At k value 77, the accuracy calculated is 0.9864437859165998\n",
      "At k value 78, the accuracy calculated is 0.9864437859165998\n",
      "At k value 79, the accuracy calculated is 0.9864437859165998\n",
      "At k value 80, the accuracy calculated is 0.9864437859165998\n",
      "At k value 81, the accuracy calculated is 0.9864437859165998\n",
      "At k value 82, the accuracy calculated is 0.9864437859165998\n",
      "At k value 83, the accuracy calculated is 0.9864437859165998\n",
      "At k value 84, the accuracy calculated is 0.9864437859165998\n",
      "At k value 85, the accuracy calculated is 0.9864437859165998\n",
      "At k value 86, the accuracy calculated is 0.9864437859165998\n",
      "At k value 87, the accuracy calculated is 0.9864437859165998\n",
      "At k value 88, the accuracy calculated is 0.9864437859165998\n",
      "At k value 89, the accuracy calculated is 0.9864437859165998\n",
      "At k value 90, the accuracy calculated is 0.9864437859165998\n",
      "At k value 91, the accuracy calculated is 0.9864437859165998\n",
      "At k value 92, the accuracy calculated is 0.9864437859165998\n",
      "At k value 93, the accuracy calculated is 0.9864437859165998\n",
      "At k value 94, the accuracy calculated is 0.9864437859165998\n",
      "At k value 95, the accuracy calculated is 0.9864437859165998\n",
      "At k value 96, the accuracy calculated is 0.9864437859165998\n",
      "At k value 97, the accuracy calculated is 0.9864437859165998\n",
      "At k value 98, the accuracy calculated is 0.9864437859165998\n",
      "At k value 99, the accuracy calculated is 0.9864437859165998\n"
     ]
    }
   ],
   "source": [
    "# KNN Model\n",
    "k_range = range(1, 100)  # Trying different k values from 1 to 100\n",
    "scores = {}\n",
    "\n",
    "for k in k_range:\n",
    "    knn = KNeighborsClassifier(n_neighbors=k)\n",
    "    knn.fit(X_train, y_train)\n",
    "    y_pred = knn.predict(X_test)\n",
    "    scores[k] = accuracy_score(y_test, y_pred)\n",
    "    print ('At k value {}, the accuracy calculated is {}'.format(k, scores[k]))"
   ]
  },
  {
   "cell_type": "code",
   "execution_count": 40,
   "id": "3686a353",
   "metadata": {},
   "outputs": [
    {
     "name": "stdout",
     "output_type": "stream",
     "text": [
      "Best K: 6\n",
      "Best Score: 0.9864437859165998\n"
     ]
    }
   ],
   "source": [
    "# Finding the best k\n",
    "best_k = max(scores, key=scores.get)\n",
    "best_score = scores[best_k]\n",
    "\n",
    "print(\"Best K:\", best_k)\n",
    "print(\"Best Score:\", best_score)"
   ]
  },
  {
   "cell_type": "code",
   "execution_count": 42,
   "id": "26fb4042",
   "metadata": {},
   "outputs": [
    {
     "data": {
      "image/png": "[encoded data removed]",
      "text/plain": [
       "<Figure size 800x600 with 1 Axes>"
      ]
     },
     "metadata": {},
     "output_type": "display_data"
    }
   ],
   "source": [
    "# Plotting the decision boundary\n",
    "plt.figure(figsize=(8, 6))\n",
    "plt.contourf(xx, yy, Z, alpha=0.8)\n",
    "\n",
    "# Plotting the training points\n",
    "plt.scatter(X_train[:, 0], X_train[:, 1], c=y_train, edgecolors='k', s=20)\n",
    "plt.xlim(xx.min(), xx.max())\n",
    "plt.ylim(yy.min(), yy.max())\n",
    "plt.title(\"2D visualization of KNN\")\n",
    "plt.show()"
   ]
  },
  {
   "cell_type": "code",
   "execution_count": 48,
   "id": "b740577c",
   "metadata": {},
   "outputs": [
    {
     "name": "stdout",
     "output_type": "stream",
     "text": [
      "Test Accuracy: 0.9868123772102161\n"
     ]
    }
   ],
   "source": [
    "from sklearn.neighbors import KNeighborsClassifier\n",
    "from sklearn.model_selection import train_test_split\n",
    "from sklearn.preprocessing import StandardScaler, LabelEncoder\n",
    "import pandas as pd\n",
    "import numpy as np\n",
    "\n",
    "# Load your data\n",
    "data = pd.read_csv('Final_data.csv')\n",
    "\n",
    "# Convert categorical variables\n",
    "label_encoder = LabelEncoder()\n",
    "data['Customer Type'] = label_encoder.fit_transform(data['Customer Type'])\n",
    "\n",
    "# Extract year and month from 'YearMonth'\n",
    "data['Year'] = pd.to_datetime(data['YearMonth']).dt.year\n",
    "data['Month'] = pd.to_datetime(data['YearMonth']).dt.month\n",
    "\n",
    "# Drop original date fields and other non-numeric fields\n",
    "data = data.drop(columns=['YearMonth', 'Monthly Last Sales Date', 'Monthly First Sales Date', 'End of Month'])\n",
    "\n",
    "# Separate features and target variable\n",
    "X = data.drop('Churned', axis=1)\n",
    "y = data['Churned']\n",
    "\n",
    "# Standardize numerical features\n",
    "scaler = StandardScaler()\n",
    "X_scaled = scaler.fit_transform(X)\n",
    "\n",
    "# Split the dataset into training and testing sets\n",
    "X_train, X_test, y_train, y_test = train_test_split(X_scaled, y, test_size=0.2, random_state=42)\n",
    "\n",
    "# Define the best K obtained from cross-validation\n",
    "best_k = 9  # Replace with the actual best K value obtained\n",
    "\n",
    "# Train the KNN model on the entire training set using the optimal K\n",
    "knn_optimal = KNeighborsClassifier(n_neighbors=best_k)\n",
    "knn_optimal.fit(X_train, y_train)\n",
    "\n",
    "# Evaluate the model on the test set\n",
    "test_accuracy = knn_optimal.score(X_test, y_test)\n",
    "\n",
    "# Output the accuracy\n",
    "print(\"Test Accuracy:\", test_accuracy)"
   ]
  },
  {
   "cell_type": "code",
   "execution_count": null,
   "id": "1eb65220",
   "metadata": {},
   "outputs": [],
   "source": []
  }
 ],
 "metadata": {
  "kernelspec": {
   "display_name": "Python 3 (ipykernel)",
   "language": "python",
   "name": "python3"
  },
  "language_info": {
   "codemirror_mode": {
    "name": "ipython",
    "version": 3
   },
   "file_extension": ".py",
   "mimetype": "text/x-python",
   "name": "python",
   "nbconvert_exporter": "python",
   "pygments_lexer": "ipython3",
   "version": "3.10.9"
  }
 },
 "nbformat": 4,
 "nbformat_minor": 5
}
